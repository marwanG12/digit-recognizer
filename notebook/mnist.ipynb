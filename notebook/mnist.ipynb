{
  "cells": [
    {
      "cell_type": "code",
      "execution_count": 2,
      "metadata": {
        "colab": {
          "base_uri": "https://localhost:8080/"
        },
        "id": "dEepxO88IFnv",
        "outputId": "09bb72ea-0d92-4ca6-f668-4d6bc89e8a47"
      },
      "outputs": [
        {
          "name": "stdout",
          "output_type": "stream",
          "text": [
            "Collecting zipfile36\n",
            "  Downloading zipfile36-0.1.3-py3-none-any.whl (20 kB)\n",
            "Installing collected packages: zipfile36\n",
            "Successfully installed zipfile36-0.1.3\n"
          ]
        }
      ],
      "source": [
        "!pip install zipfile36"
      ]
    },
    {
      "cell_type": "code",
      "execution_count": 6,
      "metadata": {
        "id": "YkgToHisH3mH"
      },
      "outputs": [],
      "source": [
        "from sklearn.model_selection import train_test_split\n",
        "from sklearn.svm import SVC\n",
        "from sklearn import metrics\n",
        "import pandas as pd\n",
        "import numpy as np\n",
        "from PIL import Image\n",
        "import matplotlib.pyplot as plt\n",
        "import zipfile36 as zipfile"
      ]
    },
    {
      "cell_type": "code",
      "execution_count": 4,
      "metadata": {
        "colab": {
          "base_uri": "https://localhost:8080/",
          "height": 74
        },
        "id": "ayBdhjStIFVN",
        "outputId": "4c49a2fa-06d6-40ee-f78f-7a43439d7080"
      },
      "outputs": [
        {
          "data": {
            "text/html": [
              "\n",
              "     <input type=\"file\" id=\"files-6e7b25fb-b176-4760-95f3-3b2d61674a70\" name=\"files[]\" multiple disabled\n",
              "        style=\"border:none\" />\n",
              "     <output id=\"result-6e7b25fb-b176-4760-95f3-3b2d61674a70\">\n",
              "      Upload widget is only available when the cell has been executed in the\n",
              "      current browser session. Please rerun this cell to enable.\n",
              "      </output>\n",
              "      <script>// Copyright 2017 Google LLC\n",
              "//\n",
              "// Licensed under the Apache License, Version 2.0 (the \"License\");\n",
              "// you may not use this file except in compliance with the License.\n",
              "// You may obtain a copy of the License at\n",
              "//\n",
              "//      http://www.apache.org/licenses/LICENSE-2.0\n",
              "//\n",
              "// Unless required by applicable law or agreed to in writing, software\n",
              "// distributed under the License is distributed on an \"AS IS\" BASIS,\n",
              "// WITHOUT WARRANTIES OR CONDITIONS OF ANY KIND, either express or implied.\n",
              "// See the License for the specific language governing permissions and\n",
              "// limitations under the License.\n",
              "\n",
              "/**\n",
              " * @fileoverview Helpers for google.colab Python module.\n",
              " */\n",
              "(function(scope) {\n",
              "function span(text, styleAttributes = {}) {\n",
              "  const element = document.createElement('span');\n",
              "  element.textContent = text;\n",
              "  for (const key of Object.keys(styleAttributes)) {\n",
              "    element.style[key] = styleAttributes[key];\n",
              "  }\n",
              "  return element;\n",
              "}\n",
              "\n",
              "// Max number of bytes which will be uploaded at a time.\n",
              "const MAX_PAYLOAD_SIZE = 100 * 1024;\n",
              "\n",
              "function _uploadFiles(inputId, outputId) {\n",
              "  const steps = uploadFilesStep(inputId, outputId);\n",
              "  const outputElement = document.getElementById(outputId);\n",
              "  // Cache steps on the outputElement to make it available for the next call\n",
              "  // to uploadFilesContinue from Python.\n",
              "  outputElement.steps = steps;\n",
              "\n",
              "  return _uploadFilesContinue(outputId);\n",
              "}\n",
              "\n",
              "// This is roughly an async generator (not supported in the browser yet),\n",
              "// where there are multiple asynchronous steps and the Python side is going\n",
              "// to poll for completion of each step.\n",
              "// This uses a Promise to block the python side on completion of each step,\n",
              "// then passes the result of the previous step as the input to the next step.\n",
              "function _uploadFilesContinue(outputId) {\n",
              "  const outputElement = document.getElementById(outputId);\n",
              "  const steps = outputElement.steps;\n",
              "\n",
              "  const next = steps.next(outputElement.lastPromiseValue);\n",
              "  return Promise.resolve(next.value.promise).then((value) => {\n",
              "    // Cache the last promise value to make it available to the next\n",
              "    // step of the generator.\n",
              "    outputElement.lastPromiseValue = value;\n",
              "    return next.value.response;\n",
              "  });\n",
              "}\n",
              "\n",
              "/**\n",
              " * Generator function which is called between each async step of the upload\n",
              " * process.\n",
              " * @param {string} inputId Element ID of the input file picker element.\n",
              " * @param {string} outputId Element ID of the output display.\n",
              " * @return {!Iterable<!Object>} Iterable of next steps.\n",
              " */\n",
              "function* uploadFilesStep(inputId, outputId) {\n",
              "  const inputElement = document.getElementById(inputId);\n",
              "  inputElement.disabled = false;\n",
              "\n",
              "  const outputElement = document.getElementById(outputId);\n",
              "  outputElement.innerHTML = '';\n",
              "\n",
              "  const pickedPromise = new Promise((resolve) => {\n",
              "    inputElement.addEventListener('change', (e) => {\n",
              "      resolve(e.target.files);\n",
              "    });\n",
              "  });\n",
              "\n",
              "  const cancel = document.createElement('button');\n",
              "  inputElement.parentElement.appendChild(cancel);\n",
              "  cancel.textContent = 'Cancel upload';\n",
              "  const cancelPromise = new Promise((resolve) => {\n",
              "    cancel.onclick = () => {\n",
              "      resolve(null);\n",
              "    };\n",
              "  });\n",
              "\n",
              "  // Wait for the user to pick the files.\n",
              "  const files = yield {\n",
              "    promise: Promise.race([pickedPromise, cancelPromise]),\n",
              "    response: {\n",
              "      action: 'starting',\n",
              "    }\n",
              "  };\n",
              "\n",
              "  cancel.remove();\n",
              "\n",
              "  // Disable the input element since further picks are not allowed.\n",
              "  inputElement.disabled = true;\n",
              "\n",
              "  if (!files) {\n",
              "    return {\n",
              "      response: {\n",
              "        action: 'complete',\n",
              "      }\n",
              "    };\n",
              "  }\n",
              "\n",
              "  for (const file of files) {\n",
              "    const li = document.createElement('li');\n",
              "    li.append(span(file.name, {fontWeight: 'bold'}));\n",
              "    li.append(span(\n",
              "        `(${file.type || 'n/a'}) - ${file.size} bytes, ` +\n",
              "        `last modified: ${\n",
              "            file.lastModifiedDate ? file.lastModifiedDate.toLocaleDateString() :\n",
              "                                    'n/a'} - `));\n",
              "    const percent = span('0% done');\n",
              "    li.appendChild(percent);\n",
              "\n",
              "    outputElement.appendChild(li);\n",
              "\n",
              "    const fileDataPromise = new Promise((resolve) => {\n",
              "      const reader = new FileReader();\n",
              "      reader.onload = (e) => {\n",
              "        resolve(e.target.result);\n",
              "      };\n",
              "      reader.readAsArrayBuffer(file);\n",
              "    });\n",
              "    // Wait for the data to be ready.\n",
              "    let fileData = yield {\n",
              "      promise: fileDataPromise,\n",
              "      response: {\n",
              "        action: 'continue',\n",
              "      }\n",
              "    };\n",
              "\n",
              "    // Use a chunked sending to avoid message size limits. See b/62115660.\n",
              "    let position = 0;\n",
              "    do {\n",
              "      const length = Math.min(fileData.byteLength - position, MAX_PAYLOAD_SIZE);\n",
              "      const chunk = new Uint8Array(fileData, position, length);\n",
              "      position += length;\n",
              "\n",
              "      const base64 = btoa(String.fromCharCode.apply(null, chunk));\n",
              "      yield {\n",
              "        response: {\n",
              "          action: 'append',\n",
              "          file: file.name,\n",
              "          data: base64,\n",
              "        },\n",
              "      };\n",
              "\n",
              "      let percentDone = fileData.byteLength === 0 ?\n",
              "          100 :\n",
              "          Math.round((position / fileData.byteLength) * 100);\n",
              "      percent.textContent = `${percentDone}% done`;\n",
              "\n",
              "    } while (position < fileData.byteLength);\n",
              "  }\n",
              "\n",
              "  // All done.\n",
              "  yield {\n",
              "    response: {\n",
              "      action: 'complete',\n",
              "    }\n",
              "  };\n",
              "}\n",
              "\n",
              "scope.google = scope.google || {};\n",
              "scope.google.colab = scope.google.colab || {};\n",
              "scope.google.colab._files = {\n",
              "  _uploadFiles,\n",
              "  _uploadFilesContinue,\n",
              "};\n",
              "})(self);\n",
              "</script> "
            ],
            "text/plain": [
              "<IPython.core.display.HTML object>"
            ]
          },
          "metadata": {},
          "output_type": "display_data"
        },
        {
          "name": "stdout",
          "output_type": "stream",
          "text": [
            "Saving digit-recognizer.zip to digit-recognizer.zip\n"
          ]
        }
      ],
      "source": [
        "from google.colab import files\n",
        "uploaded = files.upload()"
      ]
    },
    {
      "cell_type": "code",
      "execution_count": 7,
      "metadata": {
        "id": "CeSGnOoKIFeF"
      },
      "outputs": [],
      "source": [
        "zip_ref = zipfile.ZipFile('/content/digit-recognizer.zip', 'r')\n",
        "zip_ref.extractall('/content/mnist')\n",
        "zip_ref.close()"
      ]
    },
    {
      "cell_type": "code",
      "execution_count": 8,
      "metadata": {
        "id": "YplW0lqGJMLM"
      },
      "outputs": [],
      "source": [
        "# Charger les données d'entraînement et de test depuis les fichiers CSV\n",
        "train_data = pd.read_csv('/content/mnist/train.csv')\n",
        "test_data = pd.read_csv('/content/mnist/test.csv')"
      ]
    },
    {
      "cell_type": "code",
      "execution_count": null,
      "metadata": {
        "colab": {
          "base_uri": "https://localhost:8080/"
        },
        "id": "i18KGF3MAkb1",
        "outputId": "928cb2a8-dbe7-4bc6-d948-a24ef6b8d68e"
      },
      "outputs": [],
      "source": [
        "print(\"Données d'entraînement:\")\n",
        "print(train_data.head())"
      ]
    },
    {
      "cell_type": "code",
      "execution_count": null,
      "metadata": {
        "colab": {
          "base_uri": "https://localhost:8080/"
        },
        "id": "Bte8keIVAonA",
        "outputId": "8812441d-2b42-49f6-e8f7-c971519d9974"
      },
      "outputs": [],
      "source": [
        "print(\"\\nDonnées de test:\")\n",
        "print(test_data.head())"
      ]
    },
    {
      "cell_type": "code",
      "execution_count": 11,
      "metadata": {
        "id": "ie_lAyazAZ6M"
      },
      "outputs": [],
      "source": [
        "# Séparer les labels (y) des features (X) pour l'entraînement\n",
        "X_train = train_data.drop('label', axis=1)\n",
        "y_train = train_data['label']"
      ]
    },
    {
      "cell_type": "code",
      "execution_count": 12,
      "metadata": {
        "colab": {
          "base_uri": "https://localhost:8080/",
          "height": 402
        },
        "id": "nq2npAWNKq-b",
        "outputId": "5f9d20af-1595-4cb3-b87b-2ab09f1f410f"
      },
      "outputs": [
        {
          "data": {
            "image/png": "[encoded data removed]",
            "text/plain": [
              "<Figure size 1000x500 with 10 Axes>"
            ]
          },
          "metadata": {},
          "output_type": "display_data"
        }
      ],
      "source": [
        "# Visualiser quelques images d'entraînement\n",
        "plt.figure(figsize=(10, 5))\n",
        "for i in range(10):\n",
        "    plt.subplot(2, 5, i + 1)\n",
        "    img = X_train.iloc[i].values.reshape(28, 28)\n",
        "    plt.imshow(img, cmap='gray')\n",
        "    plt.title(f\"Label: {y_train.iloc[i]}\")\n",
        "    plt.axis('off')\n",
        "\n",
        "plt.show()"
      ]
    },
    {
      "cell_type": "code",
      "execution_count": null,
      "metadata": {
        "colab": {
          "base_uri": "https://localhost:8080/",
          "height": 380
        },
        "id": "HulI8dS4JMST",
        "outputId": "b83fd3f7-26c7-44a1-bcb0-af93a9df5fec"
      },
      "outputs": [],
      "source": [
        "# Séparer les labels (y) des features (X) pour le test\n",
        "X_test = test_data\n",
        "\n",
        "# Visualiser quelques images de test\n",
        "plt.figure(figsize=(10, 5))\n",
        "for i in range(10):\n",
        "    plt.subplot(2, 5, i + 1)\n",
        "    img = X_test.iloc[i].values.reshape(28, 28)\n",
        "    plt.imshow(img, cmap='gray')\n",
        "    plt.axis('off')\n",
        "\n",
        "plt.show()"
      ]
    },
    {
      "cell_type": "code",
      "execution_count": null,
      "metadata": {
        "colab": {
          "base_uri": "https://localhost:8080/",
          "height": 444
        },
        "id": "G0TCJxTJJqzT",
        "outputId": "8be5d43f-f01f-42de-deca-baf6c80f0576"
      },
      "outputs": [],
      "source": [
        "# Sélectionner les indices des images correspondant au chiffre 7\n",
        "indices_sevens = y_train[y_train == 7].index[:9]\n",
        "\n",
        "# Afficher les 9 premières images correspondant au chiffre 7 dans une seule figure\n",
        "plt.figure(figsize=(10, 5))\n",
        "for i, index in enumerate(indices_sevens):\n",
        "    plt.subplot(3, 3, i + 1)\n",
        "    img = X_train.iloc[index].values.reshape(28, 28)\n",
        "    plt.imshow(img, cmap='gray')\n",
        "    plt.title(f\"Label: {y_train.iloc[index]}\")\n",
        "    plt.axis('off')\n",
        "\n",
        "plt.show()"
      ]
    },
    {
      "cell_type": "code",
      "execution_count": null,
      "metadata": {
        "colab": {
          "base_uri": "https://localhost:8080/",
          "height": 555
        },
        "id": "0IAS1zt3BAUM",
        "outputId": "e2394901-a497-4ee9-b6e6-ca6f2721e41a"
      },
      "outputs": [],
      "source": [
        "# Calculer les représentants moyens pour chaque chiffre de 0 à 9\n",
        "mean_digits = []\n",
        "for digit in range(10):\n",
        "    # Sélectionner les indices des images correspondant au chiffre\n",
        "    indices_digit = y_train[y_train == digit].index\n",
        "\n",
        "    # Calculer la moyenne des images correspondant au chiffre\n",
        "    mean_img = X_train.iloc[indices_digit].mean().values.reshape(28, 28)\n",
        "    mean_digits.append(mean_img)\n",
        "\n",
        "# Afficher les représentants moyens dans une figure\n",
        "plt.figure(figsize=(12, 8))\n",
        "for i in range(10):\n",
        "    plt.subplot(2, 5, i + 1)\n",
        "    plt.imshow(mean_digits[i], cmap='gray')\n",
        "    plt.title(f\"Chiffre {i}\")\n",
        "    plt.axis('off')\n",
        "\n",
        "plt.show()"
      ]
    },
    {
      "cell_type": "code",
      "execution_count": 16,
      "metadata": {
        "id": "YQjMyXA8BAXk"
      },
      "outputs": [],
      "source": [
        "from sklearn.model_selection import train_test_split\n",
        "from sklearn.preprocessing import StandardScaler\n",
        "from sklearn.linear_model import LogisticRegression\n",
        "from sklearn.tree import DecisionTreeClassifier\n",
        "from sklearn.ensemble import RandomForestClassifier\n",
        "from sklearn.svm import SVC\n",
        "from sklearn.metrics import accuracy_score, classification_report\n",
        "from sklearn.model_selection import GridSearchCV\n",
        "\n",
        "# Diviser les données en ensembles d'entraînement et de test\n",
        "X_train, X_test, y_train, y_test = train_test_split(X_train, y_train, test_size=0.2, random_state=42)\n",
        "\n",
        "# Standardiser les données\n",
        "scaler = StandardScaler()\n",
        "X_train_scaled = scaler.fit_transform(X_train)\n",
        "X_test_scaled = scaler.transform(X_test)"
      ]
    },
    {
      "cell_type": "code",
      "execution_count": null,
      "metadata": {
        "colab": {
          "base_uri": "https://localhost:8080/"
        },
        "id": "eYV141_3H8lx",
        "outputId": "682dac78-0b6b-4024-a291-fdffda98503e"
      },
      "outputs": [],
      "source": [
        "#REGRESSION LOGISTIQUE\n",
        "from sklearn.linear_model import LogisticRegression\n",
        "from sklearn.metrics import accuracy_score, classification_report\n",
        "\n",
        "# Initialiser le modèle\n",
        "logistic_regression_model = LogisticRegression()\n",
        "\n",
        "# Entraîner le modèle\n",
        "logistic_regression_model.fit(X_train_scaled, y_train)\n",
        "\n",
        "# Prédire les étiquettes sur l'ensemble de test\n",
        "y_pred_logistic = logistic_regression_model.predict(X_test_scaled)\n",
        "\n",
        "# Évaluer les performances\n",
        "accuracy_logistic = accuracy_score(y_test, y_pred_logistic)\n",
        "report_logistic = classification_report(y_test, y_pred_logistic)\n",
        "\n",
        "# Afficher les résultats\n",
        "print(\"Logistic Regression Accuracy: {:.4f}\".format(accuracy_logistic))\n",
        "print(\"\\nLogistic Regression Classification Report:\\n{}\".format(report_logistic))\n"
      ]
    },
    {
      "cell_type": "code",
      "execution_count": null,
      "metadata": {
        "colab": {
          "base_uri": "https://localhost:8080/"
        },
        "id": "kd3mG9-lK112",
        "outputId": "e07e8433-a555-4a41-e170-eb308c50566d"
      },
      "outputs": [],
      "source": [
        "#ARBRE DE DECISION\n",
        "from sklearn.tree import DecisionTreeClassifier\n",
        "\n",
        "# Initialiser le modèle\n",
        "decision_tree_model = DecisionTreeClassifier()\n",
        "\n",
        "# Entraîner le modèle\n",
        "decision_tree_model.fit(X_train_scaled, y_train)\n",
        "\n",
        "# Prédire les étiquettes sur l'ensemble de test\n",
        "y_pred_decision_tree = decision_tree_model.predict(X_test_scaled)\n",
        "\n",
        "# Évaluer les performances\n",
        "accuracy_decision_tree = accuracy_score(y_test, y_pred_decision_tree)\n",
        "report_decision_tree = classification_report(y_test, y_pred_decision_tree)\n",
        "\n",
        "# Afficher les résultats\n",
        "print(\"Decision Tree Accuracy: {:.4f}\".format(accuracy_decision_tree))\n",
        "print(\"\\nDecision Tree Classification Report:\\n{}\".format(report_decision_tree))"
      ]
    },
    {
      "cell_type": "code",
      "execution_count": null,
      "metadata": {
        "colab": {
          "base_uri": "https://localhost:8080/"
        },
        "id": "QfJYfr0IK1-G",
        "outputId": "d6ad684d-92f1-4c01-d91f-ca83fca517f2"
      },
      "outputs": [],
      "source": [
        "#Forêt aléatoire\n",
        "from sklearn.ensemble import RandomForestClassifier\n",
        "\n",
        "# Initialiser le modèle\n",
        "random_forest_model = RandomForestClassifier()\n",
        "\n",
        "# Entraîner le modèle\n",
        "random_forest_model.fit(X_train_scaled, y_train)\n",
        "\n",
        "# Prédire les étiquettes sur l'ensemble de test\n",
        "y_pred_random_forest = random_forest_model.predict(X_test_scaled)\n",
        "\n",
        "# Évaluer les performances\n",
        "accuracy_random_forest = accuracy_score(y_test, y_pred_random_forest)\n",
        "report_random_forest = classification_report(y_test, y_pred_random_forest)\n",
        "\n",
        "# Afficher les résultats\n",
        "print(\"Random Forest Accuracy: {:.4f}\".format(accuracy_random_forest))\n",
        "print(\"\\nRandom Forest Classification Report:\\n{}\".format(report_random_forest))"
      ]
    },
    {
      "cell_type": "code",
      "execution_count": null,
      "metadata": {
        "colab": {
          "base_uri": "https://localhost:8080/",
          "height": 718
        },
        "id": "n3PXXhiIRcQ2",
        "outputId": "ec893cf6-65ed-4040-dcab-9413f3f0d9ee"
      },
      "outputs": [],
      "source": [
        "from sklearn.metrics import confusion_matrix\n",
        "import seaborn as sns\n",
        "import matplotlib.pyplot as plt\n",
        "\n",
        "# Prédire les étiquettes sur l'ensemble de test\n",
        "y_pred_random_forest = random_forest_model.predict(X_test_scaled)\n",
        "\n",
        "conf_matrix = confusion_matrix(y_test, y_pred_random_forest)\n",
        "\n",
        "# Afficher la matrice de confusion avec seaborn\n",
        "plt.figure(figsize=(10, 8))\n",
        "sns.heatmap(conf_matrix, annot=True, fmt='d', cmap='Blues', xticklabels=np.arange(10), yticklabels=np.arange(10))\n",
        "plt.title('Matrice de Confusion - Random Forest')\n",
        "plt.xlabel('Prédiction')\n",
        "plt.ylabel('Vraie étiquette')\n",
        "plt.show()"
      ]
    },
    {
      "cell_type": "code",
      "execution_count": null,
      "metadata": {
        "colab": {
          "base_uri": "https://localhost:8080/"
        },
        "id": "7JGvYKb5K2Dl",
        "outputId": "772bebb4-ff88-4ef8-c925-3d4cd21ae96a"
      },
      "outputs": [],
      "source": [
        "#Machine à Vecteurs de Support (SVM)\n",
        "from sklearn.svm import SVC\n",
        "\n",
        "# Initialiser le modèle\n",
        "svm_model = SVC()\n",
        "\n",
        "# Entraîner le modèle\n",
        "svm_model.fit(X_train_scaled, y_train)\n",
        "\n",
        "# Prédire les étiquettes sur l'ensemble de test\n",
        "y_pred_svm = svm_model.predict(X_test_scaled)\n",
        "\n",
        "# Évaluer les performances\n",
        "accuracy_svm = accuracy_score(y_test, y_pred_svm)\n",
        "report_svm = classification_report(y_test, y_pred_svm)\n",
        "\n",
        "# Afficher les résultats\n",
        "print(\"SVM Accuracy: {:.4f}\".format(accuracy_svm))\n",
        "print(\"\\nSVM Classification Report:\\n{}\".format(report_svm))"
      ]
    }
  ],
  "metadata": {
    "colab": {
      "provenance": []
    },
    "kernelspec": {
      "display_name": "Python 3",
      "name": "python3"
    },
    "language_info": {
      "name": "python"
    }
  },
  "nbformat": 4,
  "nbformat_minor": 0
}
